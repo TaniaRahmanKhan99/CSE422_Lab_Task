{
  "nbformat": 4,
  "nbformat_minor": 0,
  "metadata": {
    "colab": {
      "provenance": []
    },
    "kernelspec": {
      "name": "python3",
      "display_name": "Python 3"
    },
    "language_info": {
      "name": "python"
    }
  },
  "cells": [
    {
      "cell_type": "code",
      "execution_count": null,
      "metadata": {
        "id": "Zd4LXbYWd6Yl"
      },
      "outputs": [],
      "source": [
        "import pandas as pd\n",
        "import numpy as np\n",
        "import sklearn"
      ]
    },
    {
      "cell_type": "markdown",
      "source": [
        "# File read"
      ],
      "metadata": {
        "id": "3EQ7Y1_8DutD"
      }
    },
    {
      "cell_type": "code",
      "source": [
        "data = pd.read_csv('/content/wine.csv')\n",
        "data.head(7)\n"
      ],
      "metadata": {
        "colab": {
          "base_uri": "https://localhost:8080/",
          "height": 269
        },
        "id": "1VVfD7Ehf0HJ",
        "outputId": "69e88b5c-b7c3-42a7-9ba6-9cf8a471e15e"
      },
      "execution_count": null,
      "outputs": [
        {
          "output_type": "execute_result",
          "data": {
            "text/plain": [
              "   fixed acidity  volatile acidity  citric acid  residual sugar  chlorides  \\\n",
              "0            7.4              0.70         0.00             1.9      0.076   \n",
              "1            7.8              0.88         0.00             2.6      0.098   \n",
              "2            7.8              0.76         0.04             2.3      0.092   \n",
              "3           11.2              0.28         0.56             1.9      0.075   \n",
              "4            7.4              0.70         0.00             1.9      0.076   \n",
              "5            7.4              0.66         0.00             1.8      0.075   \n",
              "6            7.9              0.60         0.06             1.6      0.069   \n",
              "\n",
              "   free sulfur dioxide  total sulfur dioxide  density    pH  sulphates  \\\n",
              "0                 11.0                  34.0   0.9978  3.51       0.56   \n",
              "1                 25.0                  67.0   0.9968  3.20       0.68   \n",
              "2                 15.0                  54.0   0.9970  3.26       0.65   \n",
              "3                 17.0                  60.0   0.9980  3.16       0.58   \n",
              "4                 11.0                  34.0   0.9978  3.51       0.56   \n",
              "5                 13.0                  40.0   0.9978  3.51       0.56   \n",
              "6                 15.0                  59.0   0.9964  3.30       0.46   \n",
              "\n",
              "   alcohol quality  \n",
              "0      9.4     bad  \n",
              "1      9.8     bad  \n",
              "2      9.8     bad  \n",
              "3      9.8    good  \n",
              "4      9.4     bad  \n",
              "5      9.4     bad  \n",
              "6      9.4     bad  "
            ],
            "text/html": [
              "\n",
              "  <div id=\"df-948ee56b-aee2-4b29-9d01-8f46db153674\">\n",
              "    <div class=\"colab-df-container\">\n",
              "      <div>\n",
              "<style scoped>\n",
              "    .dataframe tbody tr th:only-of-type {\n",
              "        vertical-align: middle;\n",
              "    }\n",
              "\n",
              "    .dataframe tbody tr th {\n",
              "        vertical-align: top;\n",
              "    }\n",
              "\n",
              "    .dataframe thead th {\n",
              "        text-align: right;\n",
              "    }\n",
              "</style>\n",
              "<table border=\"1\" class=\"dataframe\">\n",
              "  <thead>\n",
              "    <tr style=\"text-align: right;\">\n",
              "      <th></th>\n",
              "      <th>fixed acidity</th>\n",
              "      <th>volatile acidity</th>\n",
              "      <th>citric acid</th>\n",
              "      <th>residual sugar</th>\n",
              "      <th>chlorides</th>\n",
              "      <th>free sulfur dioxide</th>\n",
              "      <th>total sulfur dioxide</th>\n",
              "      <th>density</th>\n",
              "      <th>pH</th>\n",
              "      <th>sulphates</th>\n",
              "      <th>alcohol</th>\n",
              "      <th>quality</th>\n",
              "    </tr>\n",
              "  </thead>\n",
              "  <tbody>\n",
              "    <tr>\n",
              "      <th>0</th>\n",
              "      <td>7.4</td>\n",
              "      <td>0.70</td>\n",
              "      <td>0.00</td>\n",
              "      <td>1.9</td>\n",
              "      <td>0.076</td>\n",
              "      <td>11.0</td>\n",
              "      <td>34.0</td>\n",
              "      <td>0.9978</td>\n",
              "      <td>3.51</td>\n",
              "      <td>0.56</td>\n",
              "      <td>9.4</td>\n",
              "      <td>bad</td>\n",
              "    </tr>\n",
              "    <tr>\n",
              "      <th>1</th>\n",
              "      <td>7.8</td>\n",
              "      <td>0.88</td>\n",
              "      <td>0.00</td>\n",
              "      <td>2.6</td>\n",
              "      <td>0.098</td>\n",
              "      <td>25.0</td>\n",
              "      <td>67.0</td>\n",
              "      <td>0.9968</td>\n",
              "      <td>3.20</td>\n",
              "      <td>0.68</td>\n",
              "      <td>9.8</td>\n",
              "      <td>bad</td>\n",
              "    </tr>\n",
              "    <tr>\n",
              "      <th>2</th>\n",
              "      <td>7.8</td>\n",
              "      <td>0.76</td>\n",
              "      <td>0.04</td>\n",
              "      <td>2.3</td>\n",
              "      <td>0.092</td>\n",
              "      <td>15.0</td>\n",
              "      <td>54.0</td>\n",
              "      <td>0.9970</td>\n",
              "      <td>3.26</td>\n",
              "      <td>0.65</td>\n",
              "      <td>9.8</td>\n",
              "      <td>bad</td>\n",
              "    </tr>\n",
              "    <tr>\n",
              "      <th>3</th>\n",
              "      <td>11.2</td>\n",
              "      <td>0.28</td>\n",
              "      <td>0.56</td>\n",
              "      <td>1.9</td>\n",
              "      <td>0.075</td>\n",
              "      <td>17.0</td>\n",
              "      <td>60.0</td>\n",
              "      <td>0.9980</td>\n",
              "      <td>3.16</td>\n",
              "      <td>0.58</td>\n",
              "      <td>9.8</td>\n",
              "      <td>good</td>\n",
              "    </tr>\n",
              "    <tr>\n",
              "      <th>4</th>\n",
              "      <td>7.4</td>\n",
              "      <td>0.70</td>\n",
              "      <td>0.00</td>\n",
              "      <td>1.9</td>\n",
              "      <td>0.076</td>\n",
              "      <td>11.0</td>\n",
              "      <td>34.0</td>\n",
              "      <td>0.9978</td>\n",
              "      <td>3.51</td>\n",
              "      <td>0.56</td>\n",
              "      <td>9.4</td>\n",
              "      <td>bad</td>\n",
              "    </tr>\n",
              "    <tr>\n",
              "      <th>5</th>\n",
              "      <td>7.4</td>\n",
              "      <td>0.66</td>\n",
              "      <td>0.00</td>\n",
              "      <td>1.8</td>\n",
              "      <td>0.075</td>\n",
              "      <td>13.0</td>\n",
              "      <td>40.0</td>\n",
              "      <td>0.9978</td>\n",
              "      <td>3.51</td>\n",
              "      <td>0.56</td>\n",
              "      <td>9.4</td>\n",
              "      <td>bad</td>\n",
              "    </tr>\n",
              "    <tr>\n",
              "      <th>6</th>\n",
              "      <td>7.9</td>\n",
              "      <td>0.60</td>\n",
              "      <td>0.06</td>\n",
              "      <td>1.6</td>\n",
              "      <td>0.069</td>\n",
              "      <td>15.0</td>\n",
              "      <td>59.0</td>\n",
              "      <td>0.9964</td>\n",
              "      <td>3.30</td>\n",
              "      <td>0.46</td>\n",
              "      <td>9.4</td>\n",
              "      <td>bad</td>\n",
              "    </tr>\n",
              "  </tbody>\n",
              "</table>\n",
              "</div>\n",
              "      <button class=\"colab-df-convert\" onclick=\"convertToInteractive('df-948ee56b-aee2-4b29-9d01-8f46db153674')\"\n",
              "              title=\"Convert this dataframe to an interactive table.\"\n",
              "              style=\"display:none;\">\n",
              "        \n",
              "  <svg xmlns=\"http://www.w3.org/2000/svg\" height=\"24px\"viewBox=\"0 0 24 24\"\n",
              "       width=\"24px\">\n",
              "    <path d=\"M0 0h24v24H0V0z\" fill=\"none\"/>\n",
              "    <path d=\"M18.56 5.44l.94 2.06.94-2.06 2.06-.94-2.06-.94-.94-2.06-.94 2.06-2.06.94zm-11 1L8.5 8.5l.94-2.06 2.06-.94-2.06-.94L8.5 2.5l-.94 2.06-2.06.94zm10 10l.94 2.06.94-2.06 2.06-.94-2.06-.94-.94-2.06-.94 2.06-2.06.94z\"/><path d=\"M17.41 7.96l-1.37-1.37c-.4-.4-.92-.59-1.43-.59-.52 0-1.04.2-1.43.59L10.3 9.45l-7.72 7.72c-.78.78-.78 2.05 0 2.83L4 21.41c.39.39.9.59 1.41.59.51 0 1.02-.2 1.41-.59l7.78-7.78 2.81-2.81c.8-.78.8-2.07 0-2.86zM5.41 20L4 18.59l7.72-7.72 1.47 1.35L5.41 20z\"/>\n",
              "  </svg>\n",
              "      </button>\n",
              "      \n",
              "  <style>\n",
              "    .colab-df-container {\n",
              "      display:flex;\n",
              "      flex-wrap:wrap;\n",
              "      gap: 12px;\n",
              "    }\n",
              "\n",
              "    .colab-df-convert {\n",
              "      background-color: #E8F0FE;\n",
              "      border: none;\n",
              "      border-radius: 50%;\n",
              "      cursor: pointer;\n",
              "      display: none;\n",
              "      fill: #1967D2;\n",
              "      height: 32px;\n",
              "      padding: 0 0 0 0;\n",
              "      width: 32px;\n",
              "    }\n",
              "\n",
              "    .colab-df-convert:hover {\n",
              "      background-color: #E2EBFA;\n",
              "      box-shadow: 0px 1px 2px rgba(60, 64, 67, 0.3), 0px 1px 3px 1px rgba(60, 64, 67, 0.15);\n",
              "      fill: #174EA6;\n",
              "    }\n",
              "\n",
              "    [theme=dark] .colab-df-convert {\n",
              "      background-color: #3B4455;\n",
              "      fill: #D2E3FC;\n",
              "    }\n",
              "\n",
              "    [theme=dark] .colab-df-convert:hover {\n",
              "      background-color: #434B5C;\n",
              "      box-shadow: 0px 1px 3px 1px rgba(0, 0, 0, 0.15);\n",
              "      filter: drop-shadow(0px 1px 2px rgba(0, 0, 0, 0.3));\n",
              "      fill: #FFFFFF;\n",
              "    }\n",
              "  </style>\n",
              "\n",
              "      <script>\n",
              "        const buttonEl =\n",
              "          document.querySelector('#df-948ee56b-aee2-4b29-9d01-8f46db153674 button.colab-df-convert');\n",
              "        buttonEl.style.display =\n",
              "          google.colab.kernel.accessAllowed ? 'block' : 'none';\n",
              "\n",
              "        async function convertToInteractive(key) {\n",
              "          const element = document.querySelector('#df-948ee56b-aee2-4b29-9d01-8f46db153674');\n",
              "          const dataTable =\n",
              "            await google.colab.kernel.invokeFunction('convertToInteractive',\n",
              "                                                     [key], {});\n",
              "          if (!dataTable) return;\n",
              "\n",
              "          const docLinkHtml = 'Like what you see? Visit the ' +\n",
              "            '<a target=\"_blank\" href=https://colab.research.google.com/notebooks/data_table.ipynb>data table notebook</a>'\n",
              "            + ' to learn more about interactive tables.';\n",
              "          element.innerHTML = '';\n",
              "          dataTable['output_type'] = 'display_data';\n",
              "          await google.colab.output.renderOutput(dataTable, element);\n",
              "          const docLink = document.createElement('div');\n",
              "          docLink.innerHTML = docLinkHtml;\n",
              "          element.appendChild(docLink);\n",
              "        }\n",
              "      </script>\n",
              "    </div>\n",
              "  </div>\n",
              "  "
            ]
          },
          "metadata": {},
          "execution_count": 294
        }
      ]
    },
    {
      "cell_type": "markdown",
      "source": [
        "\n",
        "# No missing value"
      ],
      "metadata": {
        "id": "idQwOs2zEJJL"
      }
    },
    {
      "cell_type": "code",
      "source": [
        "data.shape\n",
        "data.isnull().sum()"
      ],
      "metadata": {
        "colab": {
          "base_uri": "https://localhost:8080/"
        },
        "id": "g5vO1CgrgBpP",
        "outputId": "edb995f6-12ef-4166-9eed-aca4dc2d7687"
      },
      "execution_count": null,
      "outputs": [
        {
          "output_type": "execute_result",
          "data": {
            "text/plain": [
              "fixed acidity           0\n",
              "volatile acidity        0\n",
              "citric acid             0\n",
              "residual sugar          0\n",
              "chlorides               0\n",
              "free sulfur dioxide     0\n",
              "total sulfur dioxide    0\n",
              "density                 0\n",
              "pH                      0\n",
              "sulphates               0\n",
              "alcohol                 0\n",
              "quality                 0\n",
              "dtype: int64"
            ]
          },
          "metadata": {},
          "execution_count": 295
        }
      ]
    },
    {
      "cell_type": "markdown",
      "source": [
        "# Encoding categorical features"
      ],
      "metadata": {
        "id": "vBvQnZr4EnVq"
      }
    },
    {
      "cell_type": "code",
      "source": [
        "data.info()"
      ],
      "metadata": {
        "colab": {
          "base_uri": "https://localhost:8080/"
        },
        "id": "wA2PYh_RkEbw",
        "outputId": "0af44113-3a30-43d4-ebfb-4a4d47c66bce"
      },
      "execution_count": null,
      "outputs": [
        {
          "output_type": "stream",
          "name": "stdout",
          "text": [
            "<class 'pandas.core.frame.DataFrame'>\n",
            "RangeIndex: 1599 entries, 0 to 1598\n",
            "Data columns (total 12 columns):\n",
            " #   Column                Non-Null Count  Dtype  \n",
            "---  ------                --------------  -----  \n",
            " 0   fixed acidity         1599 non-null   float64\n",
            " 1   volatile acidity      1599 non-null   float64\n",
            " 2   citric acid           1599 non-null   float64\n",
            " 3   residual sugar        1599 non-null   float64\n",
            " 4   chlorides             1599 non-null   float64\n",
            " 5   free sulfur dioxide   1599 non-null   float64\n",
            " 6   total sulfur dioxide  1599 non-null   float64\n",
            " 7   density               1599 non-null   float64\n",
            " 8   pH                    1599 non-null   float64\n",
            " 9   sulphates             1599 non-null   float64\n",
            " 10  alcohol               1599 non-null   float64\n",
            " 11  quality               1599 non-null   object \n",
            "dtypes: float64(11), object(1)\n",
            "memory usage: 150.0+ KB\n"
          ]
        }
      ]
    },
    {
      "cell_type": "code",
      "source": [
        "data['quality'].unique()"
      ],
      "metadata": {
        "colab": {
          "base_uri": "https://localhost:8080/"
        },
        "id": "3ZG7epXysDFh",
        "outputId": "5f20df69-e232-4636-8f1c-c23cf4b2acdf"
      },
      "execution_count": null,
      "outputs": [
        {
          "output_type": "execute_result",
          "data": {
            "text/plain": [
              "array(['bad', 'good'], dtype=object)"
            ]
          },
          "metadata": {},
          "execution_count": 297
        }
      ]
    },
    {
      "cell_type": "code",
      "source": [
        "from sklearn.preprocessing import LabelEncoder\n",
        "enc = LabelEncoder()\n",
        "data['quality_enc'] = enc.fit_transform(data['quality'])\n",
        "print(data[['quality', 'quality_enc']].head(10))"
      ],
      "metadata": {
        "colab": {
          "base_uri": "https://localhost:8080/"
        },
        "id": "WAxrkHmYxFI6",
        "outputId": "12aeb98f-ecb3-42a9-9f99-e2efa14656e2"
      },
      "execution_count": null,
      "outputs": [
        {
          "output_type": "stream",
          "name": "stdout",
          "text": [
            "  quality  quality_enc\n",
            "0     bad            0\n",
            "1     bad            0\n",
            "2     bad            0\n",
            "3    good            1\n",
            "4     bad            0\n",
            "5     bad            0\n",
            "6     bad            0\n",
            "7    good            1\n",
            "8    good            1\n",
            "9     bad            0\n"
          ]
        }
      ]
    },
    {
      "cell_type": "markdown",
      "source": [
        "# Spliting the dataset into features and labels"
      ],
      "metadata": {
        "id": "B7SWDAIVE0f1"
      }
    },
    {
      "cell_type": "code",
      "source": [
        "from sklearn.model_selection import train_test_split\n",
        "feature = data.drop(columns='quality', axis = 1)\n",
        "lebel = data['quality']"
      ],
      "metadata": {
        "id": "XdWSPrnm4625"
      },
      "execution_count": null,
      "outputs": []
    },
    {
      "cell_type": "code",
      "source": [
        "print(feature)"
      ],
      "metadata": {
        "colab": {
          "base_uri": "https://localhost:8080/"
        },
        "id": "4ABoIGTTlVSb",
        "outputId": "480bce25-4c98-4765-eed5-4f30a3599447"
      },
      "execution_count": null,
      "outputs": [
        {
          "output_type": "stream",
          "name": "stdout",
          "text": [
            "      fixed acidity  volatile acidity  citric acid  residual sugar  chlorides  \\\n",
            "0               7.4             0.700         0.00             1.9      0.076   \n",
            "1               7.8             0.880         0.00             2.6      0.098   \n",
            "2               7.8             0.760         0.04             2.3      0.092   \n",
            "3              11.2             0.280         0.56             1.9      0.075   \n",
            "4               7.4             0.700         0.00             1.9      0.076   \n",
            "...             ...               ...          ...             ...        ...   \n",
            "1594            6.2             0.600         0.08             2.0      0.090   \n",
            "1595            5.9             0.550         0.10             2.2      0.062   \n",
            "1596            6.3             0.510         0.13             2.3      0.076   \n",
            "1597            5.9             0.645         0.12             2.0      0.075   \n",
            "1598            6.0             0.310         0.47             3.6      0.067   \n",
            "\n",
            "      free sulfur dioxide  total sulfur dioxide  density    pH  sulphates  \\\n",
            "0                    11.0                  34.0  0.99780  3.51       0.56   \n",
            "1                    25.0                  67.0  0.99680  3.20       0.68   \n",
            "2                    15.0                  54.0  0.99700  3.26       0.65   \n",
            "3                    17.0                  60.0  0.99800  3.16       0.58   \n",
            "4                    11.0                  34.0  0.99780  3.51       0.56   \n",
            "...                   ...                   ...      ...   ...        ...   \n",
            "1594                 32.0                  44.0  0.99490  3.45       0.58   \n",
            "1595                 39.0                  51.0  0.99512  3.52       0.76   \n",
            "1596                 29.0                  40.0  0.99574  3.42       0.75   \n",
            "1597                 32.0                  44.0  0.99547  3.57       0.71   \n",
            "1598                 18.0                  42.0  0.99549  3.39       0.66   \n",
            "\n",
            "      alcohol  quality_enc  \n",
            "0         9.4            0  \n",
            "1         9.8            0  \n",
            "2         9.8            0  \n",
            "3         9.8            1  \n",
            "4         9.4            0  \n",
            "...       ...          ...  \n",
            "1594     10.5            0  \n",
            "1595     11.2            1  \n",
            "1596     11.0            1  \n",
            "1597     10.2            0  \n",
            "1598     11.0            1  \n",
            "\n",
            "[1599 rows x 12 columns]\n"
          ]
        }
      ]
    },
    {
      "cell_type": "code",
      "source": [
        "print(lebel)"
      ],
      "metadata": {
        "colab": {
          "base_uri": "https://localhost:8080/"
        },
        "id": "RPpKLuLOlYgJ",
        "outputId": "32789db9-c11d-4900-d4a5-cbe6265e0a79"
      },
      "execution_count": null,
      "outputs": [
        {
          "output_type": "stream",
          "name": "stdout",
          "text": [
            "0        bad\n",
            "1        bad\n",
            "2        bad\n",
            "3       good\n",
            "4        bad\n",
            "        ... \n",
            "1594     bad\n",
            "1595    good\n",
            "1596    good\n",
            "1597     bad\n",
            "1598    good\n",
            "Name: quality, Length: 1599, dtype: object\n"
          ]
        }
      ]
    },
    {
      "cell_type": "code",
      "source": [
        " feature_train,feature_test, lebel_train, lebel_test = train_test_split(feature, lebel, test_size=0.2, random_state=2)\n",
        " print(feature.shape, feature_test.shape, feature_train.shape )"
      ],
      "metadata": {
        "colab": {
          "base_uri": "https://localhost:8080/"
        },
        "id": "0su78sublbto",
        "outputId": "1bd204fd-0c61-4084-e52d-a136a217f46e"
      },
      "execution_count": null,
      "outputs": [
        {
          "output_type": "stream",
          "name": "stdout",
          "text": [
            "(1599, 12) (320, 12) (1279, 12)\n"
          ]
        }
      ]
    },
    {
      "cell_type": "markdown",
      "source": [
        "# Scaling all the values between 0-1"
      ],
      "metadata": {
        "id": "Cp54j-94FAJ5"
      }
    },
    {
      "cell_type": "code",
      "source": [
        "from sklearn.preprocessing import MinMaxScaler\n",
        "scaler = MinMaxScaler()\n",
        "scaler.fit(feature_train)\n",
        "feature_train_scaled = scaler.transform(feature_train)\n",
        "print(\"per-feature minimum before scaling:\\n {}\".format(feature_train.min(axis=0)))\n",
        "print(\"per-feature maximum before scaling:\\n {}\".format(feature_train.max(axis=0)))\n"
      ],
      "metadata": {
        "colab": {
          "base_uri": "https://localhost:8080/"
        },
        "id": "_awCYP90pAu9",
        "outputId": "6c55a9e1-12f2-4b2e-ecbb-b3b16cb7efb3"
      },
      "execution_count": null,
      "outputs": [
        {
          "output_type": "stream",
          "name": "stdout",
          "text": [
            "per-feature minimum before scaling:\n",
            " fixed acidity           4.70000\n",
            "volatile acidity        0.12000\n",
            "citric acid             0.00000\n",
            "residual sugar          0.90000\n",
            "chlorides               0.01200\n",
            "free sulfur dioxide     1.00000\n",
            "total sulfur dioxide    6.00000\n",
            "density                 0.99007\n",
            "pH                      2.74000\n",
            "sulphates               0.33000\n",
            "alcohol                 8.40000\n",
            "quality_enc             0.00000\n",
            "dtype: float64\n",
            "per-feature maximum before scaling:\n",
            " fixed acidity            15.60000\n",
            "volatile acidity          1.58000\n",
            "citric acid               1.00000\n",
            "residual sugar           15.50000\n",
            "chlorides                 0.61100\n",
            "free sulfur dioxide      72.00000\n",
            "total sulfur dioxide    278.00000\n",
            "density                   1.00369\n",
            "pH                        4.01000\n",
            "sulphates                 2.00000\n",
            "alcohol                  14.00000\n",
            "quality_enc               1.00000\n",
            "dtype: float64\n"
          ]
        }
      ]
    },
    {
      "cell_type": "code",
      "source": [
        "print(\"per-feature minimum after scaling:\\n {}\".format(feature_train_scaled.min(axis=0)))\n",
        "print(\"per-feature maximum after scaling:\\n {}\".format(feature_train_scaled.max(axis=0)))"
      ],
      "metadata": {
        "colab": {
          "base_uri": "https://localhost:8080/"
        },
        "id": "p-A6NqlgrND4",
        "outputId": "0db4a254-447f-4151-b1ef-5a66e41d767f"
      },
      "execution_count": null,
      "outputs": [
        {
          "output_type": "stream",
          "name": "stdout",
          "text": [
            "per-feature minimum after scaling:\n",
            " [0. 0. 0. 0. 0. 0. 0. 0. 0. 0. 0. 0.]\n",
            "per-feature maximum after scaling:\n",
            " [1. 1. 1. 1. 1. 1. 1. 1. 1. 1. 1. 1.]\n"
          ]
        }
      ]
    },
    {
      "cell_type": "markdown",
      "source": [
        "# LogisticRegression"
      ],
      "metadata": {
        "id": "CCIiAFsORnu-"
      }
    },
    {
      "cell_type": "code",
      "source": [
        "from sklearn.linear_model import LogisticRegression\n",
        "from sklearn.metrics import accuracy_score\n",
        "model = LogisticRegression()\n",
        "model.fit(feature_train, lebel_train) #Training the model\n",
        "predictions = model.predict(feature_test)\n",
        "print(predictions)# printing predictions"
      ],
      "metadata": {
        "id": "Hd0B-6x5sbHt",
        "colab": {
          "base_uri": "https://localhost:8080/"
        },
        "outputId": "aef9d2af-3efd-4b67-c635-1f54bd6a4b85"
      },
      "execution_count": null,
      "outputs": [
        {
          "output_type": "stream",
          "name": "stdout",
          "text": [
            "['good' 'good' 'good' 'good' 'bad' 'bad' 'bad' 'good' 'bad' 'bad' 'bad'\n",
            " 'good' 'good' 'good' 'good' 'good' 'good' 'good' 'bad' 'good' 'good'\n",
            " 'good' 'bad' 'good' 'bad' 'good' 'bad' 'good' 'good' 'good' 'bad' 'bad'\n",
            " 'bad' 'good' 'good' 'bad' 'good' 'good' 'good' 'good' 'bad' 'good' 'good'\n",
            " 'bad' 'bad' 'good' 'bad' 'good' 'good' 'bad' 'bad' 'bad' 'bad' 'good'\n",
            " 'good' 'bad' 'good' 'bad' 'good' 'good' 'good' 'good' 'good' 'good' 'bad'\n",
            " 'good' 'good' 'good' 'good' 'bad' 'bad' 'good' 'good' 'good' 'bad' 'good'\n",
            " 'bad' 'bad' 'good' 'bad' 'bad' 'good' 'good' 'good' 'good' 'good' 'bad'\n",
            " 'good' 'bad' 'good' 'good' 'bad' 'bad' 'good' 'good' 'bad' 'bad' 'bad'\n",
            " 'bad' 'bad' 'good' 'bad' 'bad' 'bad' 'good' 'good' 'bad' 'bad' 'bad'\n",
            " 'good' 'good' 'bad' 'bad' 'bad' 'good' 'good' 'bad' 'good' 'good' 'good'\n",
            " 'good' 'good' 'bad' 'good' 'good' 'good' 'bad' 'bad' 'good' 'bad' 'good'\n",
            " 'bad' 'good' 'good' 'bad' 'bad' 'good' 'bad' 'good' 'good' 'good' 'good'\n",
            " 'good' 'good' 'bad' 'bad' 'good' 'good' 'bad' 'good' 'bad' 'good' 'good'\n",
            " 'good' 'good' 'good' 'good' 'bad' 'good' 'good' 'bad' 'bad' 'good' 'bad'\n",
            " 'good' 'good' 'good' 'good' 'bad' 'good' 'good' 'good' 'good' 'good'\n",
            " 'good' 'good' 'bad' 'bad' 'good' 'good' 'bad' 'good' 'bad' 'good' 'good'\n",
            " 'bad' 'good' 'bad' 'good' 'bad' 'bad' 'good' 'bad' 'bad' 'bad' 'good'\n",
            " 'bad' 'good' 'bad' 'good' 'good' 'bad' 'bad' 'good' 'bad' 'bad' 'good'\n",
            " 'good' 'bad' 'bad' 'good' 'good' 'good' 'bad' 'good' 'good' 'good' 'good'\n",
            " 'bad' 'bad' 'good' 'bad' 'bad' 'good' 'good' 'bad' 'bad' 'good' 'good'\n",
            " 'good' 'good' 'bad' 'bad' 'bad' 'good' 'good' 'bad' 'good' 'good' 'bad'\n",
            " 'good' 'bad' 'good' 'good' 'good' 'bad' 'bad' 'good' 'bad' 'good' 'bad'\n",
            " 'bad' 'bad' 'bad' 'good' 'good' 'bad' 'good' 'good' 'bad' 'good' 'good'\n",
            " 'bad' 'good' 'good' 'bad' 'bad' 'good' 'bad' 'good' 'bad' 'good' 'good'\n",
            " 'good' 'bad' 'bad' 'bad' 'bad' 'good' 'bad' 'good' 'bad' 'good' 'good'\n",
            " 'good' 'bad' 'bad' 'good' 'good' 'good' 'good' 'good' 'good' 'bad' 'good'\n",
            " 'good' 'good' 'good' 'bad' 'good' 'good' 'good' 'good' 'good' 'good'\n",
            " 'good' 'good' 'good' 'bad' 'good' 'bad' 'bad' 'good' 'bad' 'bad' 'bad'\n",
            " 'bad' 'bad' 'good' 'good']\n"
          ]
        },
        {
          "output_type": "stream",
          "name": "stderr",
          "text": [
            "/usr/local/lib/python3.7/dist-packages/sklearn/linear_model/_logistic.py:818: ConvergenceWarning: lbfgs failed to converge (status=1):\n",
            "STOP: TOTAL NO. of ITERATIONS REACHED LIMIT.\n",
            "\n",
            "Increase the number of iterations (max_iter) or scale the data as shown in:\n",
            "    https://scikit-learn.org/stable/modules/preprocessing.html\n",
            "Please also refer to the documentation for alternative solver options:\n",
            "    https://scikit-learn.org/stable/modules/linear_model.html#logistic-regression\n",
            "  extra_warning_msg=_LOGISTIC_SOLVER_CONVERGENCE_MSG,\n"
          ]
        }
      ]
    },
    {
      "cell_type": "code",
      "source": [
        "print( accuracy_score(lebel_test, predictions))"
      ],
      "metadata": {
        "colab": {
          "base_uri": "https://localhost:8080/"
        },
        "id": "IAPVUsGAIDLb",
        "outputId": "3e89c0d4-c587-4c1c-a8f2-b6c9cd9d3ff8"
      },
      "execution_count": null,
      "outputs": [
        {
          "output_type": "stream",
          "name": "stdout",
          "text": [
            "1.0\n"
          ]
        }
      ]
    },
    {
      "cell_type": "markdown",
      "source": [
        "# DecisionTree"
      ],
      "metadata": {
        "id": "-1EVZSg9RyW2"
      }
    },
    {
      "cell_type": "code",
      "source": [
        "from sklearn.tree import DecisionTreeClassifier\n",
        "clf = DecisionTreeClassifier(criterion='entropy',random_state=1)\n",
        "clf.fit(feature_train,lebel_train)\n",
        "y_pred = clf.predict(feature_test)\n",
        "score=accuracy_score(y_pred,lebel_test)\n",
        "print(score)"
      ],
      "metadata": {
        "colab": {
          "base_uri": "https://localhost:8080/"
        },
        "id": "vCtIpxNaKXRs",
        "outputId": "0392cb97-1bf6-4ab4-98ee-a657861589f5"
      },
      "execution_count": null,
      "outputs": [
        {
          "output_type": "stream",
          "name": "stdout",
          "text": [
            "1.0\n"
          ]
        }
      ]
    },
    {
      "cell_type": "code",
      "source": [
        "import matplotlib.pyplot as plt\n",
        "# Dataset generation\n",
        "x1 = 'Logistic_Regression'\n",
        "y1 = 1\n",
        "x2 = 'Decision_Tree'\n",
        "y2 = 1\n",
        "fig = plt.figure(figsize = (10, 5))\n",
        "#  Bar plot\n",
        "plt.bar(x1, y1, color ='pink', width = 0.5)\n",
        "plt.bar(x2, y2, color ='lavender', width = 0.5)\n",
        "plt.title(\"accuracy\")\n",
        "plt.show()\n"
      ],
      "metadata": {
        "colab": {
          "base_uri": "https://localhost:8080/",
          "height": 337
        },
        "id": "t9fuhLYHU5dz",
        "outputId": "8589ffd8-65bf-43ee-9dc6-332ef97221d9"
      },
      "execution_count": null,
      "outputs": [
        {
          "output_type": "display_data",
          "data": {
            "text/plain": [
              "<Figure size 720x360 with 1 Axes>"
            ],
            "image/png": "[encoded data removed]"
          },
          "metadata": {
            "needs_background": "light"
          }
        }
      ]
    },
    {
      "cell_type": "code",
      "source": [
        " x_train, x_test, y_train, y_test = feature_train, feature_test, lebel_train, lebel_test"
      ],
      "metadata": {
        "id": "3DlWF3KqrXiM"
      },
      "execution_count": null,
      "outputs": []
    },
    {
      "cell_type": "markdown",
      "source": [
        "# Support Vector Machine"
      ],
      "metadata": {
        "id": "iXOt29ktswKd"
      }
    },
    {
      "cell_type": "code",
      "source": [
        "from sklearn.svm import SVC\n",
        "svc = SVC(kernel=\"linear\")\n",
        "svc.fit(x_train, y_train)\n",
        "svc1 = svc.score(x_test, y_test)"
      ],
      "metadata": {
        "id": "J0YwNemMyHja"
      },
      "execution_count": null,
      "outputs": []
    },
    {
      "cell_type": "code",
      "source": [
        "print(\"Training accuracy of the model is {:.2f}\".format(svc.score(x_train, y_train)))\n",
        "print(\"Testing accuracy of the model is {:.2f}\".format(svc.score(x_test, y_test)))"
      ],
      "metadata": {
        "colab": {
          "base_uri": "https://localhost:8080/"
        },
        "id": "8SLV92KUrrEx",
        "outputId": "5f92a37a-e438-4884-8948-d851cb8cfe3d"
      },
      "execution_count": null,
      "outputs": [
        {
          "output_type": "stream",
          "name": "stdout",
          "text": [
            "Training accuracy of the model is 1.00\n",
            "Testing accuracy of the model is 1.00\n"
          ]
        }
      ]
    },
    {
      "cell_type": "code",
      "source": [
        "predictions = svc.predict(x_test)\n",
        "print(predictions)"
      ],
      "metadata": {
        "colab": {
          "base_uri": "https://localhost:8080/"
        },
        "id": "AzBqWjUAtL3t",
        "outputId": "7304d80a-0080-43cf-ffea-f033747c55b0"
      },
      "execution_count": null,
      "outputs": [
        {
          "output_type": "stream",
          "name": "stdout",
          "text": [
            "['good' 'good' 'good' 'good' 'bad' 'bad' 'bad' 'good' 'bad' 'bad' 'bad'\n",
            " 'good' 'good' 'good' 'good' 'good' 'good' 'good' 'bad' 'good' 'good'\n",
            " 'good' 'bad' 'good' 'bad' 'good' 'bad' 'good' 'good' 'good' 'bad' 'bad'\n",
            " 'bad' 'good' 'good' 'bad' 'good' 'good' 'good' 'good' 'bad' 'good' 'good'\n",
            " 'bad' 'bad' 'good' 'bad' 'good' 'good' 'bad' 'bad' 'bad' 'bad' 'good'\n",
            " 'good' 'bad' 'good' 'bad' 'good' 'good' 'good' 'good' 'good' 'good' 'bad'\n",
            " 'good' 'good' 'good' 'good' 'bad' 'bad' 'good' 'good' 'good' 'bad' 'good'\n",
            " 'bad' 'bad' 'good' 'bad' 'bad' 'good' 'good' 'good' 'good' 'good' 'bad'\n",
            " 'good' 'bad' 'good' 'good' 'bad' 'bad' 'good' 'good' 'bad' 'bad' 'bad'\n",
            " 'bad' 'bad' 'good' 'bad' 'bad' 'bad' 'good' 'good' 'bad' 'bad' 'bad'\n",
            " 'good' 'good' 'bad' 'bad' 'bad' 'good' 'good' 'bad' 'good' 'good' 'good'\n",
            " 'good' 'good' 'bad' 'good' 'good' 'good' 'bad' 'bad' 'good' 'bad' 'good'\n",
            " 'bad' 'good' 'good' 'bad' 'bad' 'good' 'bad' 'good' 'good' 'good' 'good'\n",
            " 'good' 'good' 'bad' 'bad' 'good' 'good' 'bad' 'good' 'bad' 'good' 'good'\n",
            " 'good' 'good' 'good' 'good' 'bad' 'good' 'good' 'bad' 'bad' 'good' 'bad'\n",
            " 'good' 'good' 'good' 'good' 'bad' 'good' 'good' 'good' 'good' 'good'\n",
            " 'good' 'good' 'bad' 'bad' 'good' 'good' 'bad' 'good' 'bad' 'good' 'good'\n",
            " 'bad' 'good' 'bad' 'good' 'bad' 'bad' 'good' 'bad' 'bad' 'bad' 'good'\n",
            " 'bad' 'good' 'bad' 'good' 'good' 'bad' 'bad' 'good' 'bad' 'bad' 'good'\n",
            " 'good' 'bad' 'bad' 'good' 'good' 'good' 'bad' 'good' 'good' 'good' 'good'\n",
            " 'bad' 'bad' 'good' 'bad' 'bad' 'good' 'good' 'bad' 'bad' 'good' 'good'\n",
            " 'good' 'good' 'bad' 'bad' 'bad' 'good' 'good' 'bad' 'good' 'good' 'bad'\n",
            " 'good' 'bad' 'good' 'good' 'good' 'bad' 'bad' 'good' 'bad' 'good' 'bad'\n",
            " 'bad' 'bad' 'bad' 'good' 'good' 'bad' 'good' 'good' 'bad' 'good' 'good'\n",
            " 'bad' 'good' 'good' 'bad' 'bad' 'good' 'bad' 'good' 'bad' 'good' 'good'\n",
            " 'good' 'bad' 'bad' 'bad' 'bad' 'good' 'bad' 'good' 'bad' 'good' 'good'\n",
            " 'good' 'bad' 'bad' 'good' 'good' 'good' 'good' 'good' 'good' 'bad' 'good'\n",
            " 'good' 'good' 'good' 'bad' 'good' 'good' 'good' 'good' 'good' 'good'\n",
            " 'good' 'good' 'good' 'bad' 'good' 'bad' 'bad' 'good' 'bad' 'bad' 'bad'\n",
            " 'bad' 'bad' 'good' 'good']\n"
          ]
        }
      ]
    },
    {
      "cell_type": "code",
      "source": [
        "from sklearn.metrics import confusion_matrix\n",
        "mat=confusion_matrix(predictions, y_test)\n",
        "print(mat)"
      ],
      "metadata": {
        "colab": {
          "base_uri": "https://localhost:8080/"
        },
        "id": "P6ipVrYatnEX",
        "outputId": "73f982e2-e857-4621-e9e7-78e0e45c7752"
      },
      "execution_count": null,
      "outputs": [
        {
          "output_type": "stream",
          "name": "stdout",
          "text": [
            "[[132   0]\n",
            " [  0 188]]\n"
          ]
        }
      ]
    },
    {
      "cell_type": "markdown",
      "source": [
        "# Neural Network (MLPClassifier)"
      ],
      "metadata": {
        "id": "Trjt_yI4s6HM"
      }
    },
    {
      "cell_type": "code",
      "source": [
        "from sklearn.neural_network import MLPClassifier\n",
        "nnc=MLPClassifier(hidden_layer_sizes=(7), activation=\"relu\", max_iter=10000)\n",
        "nnc.fit(x_train, y_train)\n",
        "nnc1 = nnc.score(x_test, y_test)"
      ],
      "metadata": {
        "id": "zX7P1Kg0sH84"
      },
      "execution_count": null,
      "outputs": []
    },
    {
      "cell_type": "code",
      "source": [
        "print(\"The Training accuracy of the model is {:.2f}\".format(nnc.score(x_train, y_train)))\n",
        "print(\"The Testing accuracy of the model is {:.2f}\".format(nnc.score(x_test, y_test)))"
      ],
      "metadata": {
        "colab": {
          "base_uri": "https://localhost:8080/"
        },
        "id": "hxGDDUifvIrh",
        "outputId": "a7eb66d7-b2f5-4424-de42-f42fccc63079"
      },
      "execution_count": null,
      "outputs": [
        {
          "output_type": "stream",
          "name": "stdout",
          "text": [
            "The Training accuracy of the model is 1.00\n",
            "The Testing accuracy of the model is 1.00\n"
          ]
        }
      ]
    },
    {
      "cell_type": "code",
      "source": [
        "predictions = nnc.predict(x_test)\n",
        "print(predictions)"
      ],
      "metadata": {
        "colab": {
          "base_uri": "https://localhost:8080/"
        },
        "id": "ZhgnQ7P9vxTr",
        "outputId": "46c8aec3-b142-48cb-cc19-ef20a5b35f40"
      },
      "execution_count": null,
      "outputs": [
        {
          "output_type": "stream",
          "name": "stdout",
          "text": [
            "['good' 'good' 'good' 'good' 'bad' 'bad' 'bad' 'good' 'bad' 'bad' 'bad'\n",
            " 'good' 'good' 'good' 'good' 'good' 'good' 'good' 'bad' 'good' 'good'\n",
            " 'good' 'bad' 'good' 'bad' 'good' 'bad' 'good' 'good' 'good' 'bad' 'bad'\n",
            " 'bad' 'good' 'good' 'bad' 'good' 'good' 'good' 'good' 'bad' 'good' 'good'\n",
            " 'bad' 'bad' 'good' 'bad' 'good' 'good' 'bad' 'bad' 'bad' 'bad' 'good'\n",
            " 'good' 'bad' 'good' 'bad' 'good' 'good' 'good' 'good' 'good' 'good' 'bad'\n",
            " 'good' 'good' 'good' 'good' 'bad' 'bad' 'good' 'good' 'good' 'bad' 'good'\n",
            " 'bad' 'bad' 'good' 'bad' 'bad' 'good' 'good' 'good' 'good' 'good' 'bad'\n",
            " 'good' 'bad' 'good' 'good' 'bad' 'bad' 'good' 'good' 'bad' 'bad' 'bad'\n",
            " 'bad' 'bad' 'good' 'bad' 'bad' 'bad' 'good' 'good' 'bad' 'bad' 'bad'\n",
            " 'good' 'good' 'bad' 'bad' 'bad' 'good' 'good' 'bad' 'good' 'good' 'good'\n",
            " 'good' 'good' 'bad' 'good' 'good' 'good' 'bad' 'bad' 'good' 'bad' 'good'\n",
            " 'bad' 'good' 'good' 'bad' 'bad' 'good' 'bad' 'good' 'good' 'good' 'good'\n",
            " 'good' 'good' 'bad' 'bad' 'good' 'good' 'bad' 'good' 'bad' 'good' 'good'\n",
            " 'good' 'good' 'good' 'good' 'bad' 'good' 'good' 'bad' 'bad' 'good' 'bad'\n",
            " 'good' 'good' 'good' 'good' 'bad' 'good' 'good' 'good' 'good' 'good'\n",
            " 'good' 'good' 'bad' 'bad' 'good' 'good' 'bad' 'good' 'bad' 'good' 'good'\n",
            " 'bad' 'good' 'bad' 'good' 'bad' 'bad' 'good' 'bad' 'bad' 'bad' 'good'\n",
            " 'bad' 'good' 'bad' 'good' 'good' 'bad' 'bad' 'good' 'bad' 'bad' 'good'\n",
            " 'good' 'bad' 'bad' 'good' 'good' 'good' 'bad' 'good' 'good' 'good' 'good'\n",
            " 'bad' 'bad' 'good' 'bad' 'bad' 'good' 'good' 'bad' 'bad' 'good' 'good'\n",
            " 'good' 'good' 'bad' 'bad' 'bad' 'good' 'good' 'bad' 'good' 'good' 'bad'\n",
            " 'good' 'bad' 'good' 'good' 'good' 'bad' 'bad' 'good' 'bad' 'good' 'bad'\n",
            " 'bad' 'bad' 'bad' 'good' 'good' 'bad' 'good' 'good' 'bad' 'good' 'good'\n",
            " 'bad' 'good' 'good' 'bad' 'bad' 'good' 'bad' 'good' 'bad' 'good' 'good'\n",
            " 'good' 'bad' 'bad' 'bad' 'bad' 'good' 'bad' 'good' 'bad' 'good' 'good'\n",
            " 'good' 'bad' 'bad' 'good' 'good' 'good' 'good' 'good' 'good' 'bad' 'good'\n",
            " 'good' 'good' 'good' 'bad' 'good' 'good' 'good' 'good' 'good' 'good'\n",
            " 'good' 'good' 'good' 'bad' 'good' 'bad' 'bad' 'good' 'bad' 'bad' 'bad'\n",
            " 'bad' 'bad' 'good' 'good']\n"
          ]
        }
      ]
    },
    {
      "cell_type": "code",
      "source": [
        "from sklearn.metrics import confusion_matrix\n",
        "mat=confusion_matrix(predictions, y_test)\n",
        "print(mat)"
      ],
      "metadata": {
        "colab": {
          "base_uri": "https://localhost:8080/"
        },
        "id": "AAvF6Slev2gy",
        "outputId": "2f6108e3-4667-4c9c-fd23-8a7c4b6e26bc"
      },
      "execution_count": null,
      "outputs": [
        {
          "output_type": "stream",
          "name": "stdout",
          "text": [
            "[[132   0]\n",
            " [  0 188]]\n"
          ]
        }
      ]
    },
    {
      "cell_type": "markdown",
      "source": [
        "# Random Forest"
      ],
      "metadata": {
        "id": "1-gl2iJdydDN"
      }
    },
    {
      "cell_type": "code",
      "source": [
        "from sklearn.ensemble import RandomForestClassifier\n",
        "rfc = RandomForestClassifier(n_estimators=50)\n",
        "rfc.fit(x_train, y_train)\n",
        "rfc1 = rfc.score(x_test, y_test)"
      ],
      "metadata": {
        "id": "9oNeLNpjv7GN"
      },
      "execution_count": null,
      "outputs": []
    },
    {
      "cell_type": "code",
      "source": [
        "print(\"The Training accuracy of the model is {:.2f}\".format(rfc.score(x_train, y_train)))\n",
        "print(\"The Testing accuracy of the model is {:.2f}\".format(rfc.score(x_test, y_test)))\n"
      ],
      "metadata": {
        "colab": {
          "base_uri": "https://localhost:8080/"
        },
        "id": "wQ24vAr7yxZy",
        "outputId": "ab2aea53-989e-4c45-87f5-adc54e55028d"
      },
      "execution_count": null,
      "outputs": [
        {
          "output_type": "stream",
          "name": "stdout",
          "text": [
            "The Training accuracy of the model is 1.00\n",
            "The Testing accuracy of the model is 1.00\n"
          ]
        }
      ]
    },
    {
      "cell_type": "code",
      "source": [
        "predictions = rfc.predict(x_test)"
      ],
      "metadata": {
        "id": "tLioPmgFy2sD"
      },
      "execution_count": null,
      "outputs": []
    },
    {
      "cell_type": "code",
      "source": [
        "from sklearn.metrics import confusion_matrix\n",
        "mat=confusion_matrix(predictions, y_test)\n",
        "print(mat)"
      ],
      "metadata": {
        "colab": {
          "base_uri": "https://localhost:8080/"
        },
        "id": "fuhKr3rZy5v0",
        "outputId": "4c9e827d-edad-44cd-e5fc-bd27b8670f14"
      },
      "execution_count": null,
      "outputs": [
        {
          "output_type": "stream",
          "name": "stdout",
          "text": [
            "[[132   0]\n",
            " [  0 188]]\n"
          ]
        }
      ]
    },
    {
      "cell_type": "markdown",
      "source": [
        "# Dimensionality reduction using PCA"
      ],
      "metadata": {
        "id": "qVlK_J_a1-s3"
      }
    },
    {
      "cell_type": "code",
      "source": [
        "from sklearn.decomposition import PCA\n",
        "pca = PCA(n_components=6)"
      ],
      "metadata": {
        "id": "XzMeccwe25Ov"
      },
      "execution_count": null,
      "outputs": []
    },
    {
      "cell_type": "code",
      "source": [
        "principal_components= pca.fit_transform(feature)\n",
        "print(principal_components)"
      ],
      "metadata": {
        "colab": {
          "base_uri": "https://localhost:8080/"
        },
        "id": "HqgqiGUa77gg",
        "outputId": "6e0ab016-6db0-44a7-cf4f-c8820a5eb4a2"
      },
      "execution_count": null,
      "outputs": [
        {
          "output_type": "stream",
          "name": "stdout",
          "text": [
            "[[-13.22304059  -2.02911102  -1.14279289  -0.42129554  -1.17018428\n",
            "    0.28579379]\n",
            " [ 22.03938034   4.4039953   -0.32384416  -0.21782753  -0.65166121\n",
            "    0.38434937]\n",
            " [  7.1644243   -2.50598105  -0.59486742  -0.23606795  -0.64177173\n",
            "    0.35295161]\n",
            " ...\n",
            " [ -3.43291174  14.27474032  -1.74187128   0.18813856   0.31432898\n",
            "   -0.30926257]\n",
            " [  1.13463282  16.31067418  -2.15163308  -0.25525123  -0.63911515\n",
            "    0.48180263]\n",
            " [ -3.87591444   3.13028968  -1.86178478   1.7156953    0.18970709\n",
            "   -0.43158878]]\n"
          ]
        }
      ]
    },
    {
      "cell_type": "code",
      "source": [
        "pca.explained_variance_ratio_"
      ],
      "metadata": {
        "colab": {
          "base_uri": "https://localhost:8080/"
        },
        "id": "VU6cNayE8BD_",
        "outputId": "b752a0fd-e39a-4b08-a812-2b745aea9286"
      },
      "execution_count": null,
      "outputs": [
        {
          "output_type": "execute_result",
          "data": {
            "text/plain": [
              "array([9.46390841e-01, 4.83621730e-02, 2.59000163e-03, 1.51969304e-03,\n",
              "       9.11861358e-04, 1.55056008e-04])"
            ]
          },
          "metadata": {},
          "execution_count": 324
        }
      ]
    },
    {
      "cell_type": "code",
      "source": [
        "principal_df = pd.DataFrame(data=principal_components, columns=[\"principle component 1\", \"principle component 2\", \"principle component 3\", \"principle component 4\", \"principle component 5\", \"principle component 6\"])\n",
        "#principal_df.head()\n",
        "main_df=pd.concat([principal_df, data[['quality']]], axis=1)"
      ],
      "metadata": {
        "id": "CbMp6658i8IG"
      },
      "execution_count": null,
      "outputs": []
    },
    {
      "cell_type": "code",
      "source": [
        "main_df.head()"
      ],
      "metadata": {
        "colab": {
          "base_uri": "https://localhost:8080/",
          "height": 206
        },
        "id": "0A1ZdaqylIrA",
        "outputId": "48f65f34-1223-4fc9-deb9-7dff6bd041a6"
      },
      "execution_count": null,
      "outputs": [
        {
          "output_type": "execute_result",
          "data": {
            "text/plain": [
              "   principle component 1  principle component 2  principle component 3  \\\n",
              "0             -13.223041              -2.029111              -1.142793   \n",
              "1              22.039380               4.403995              -0.323844   \n",
              "2               7.164424              -2.505981              -0.594867   \n",
              "3              13.428436              -1.946403               2.644524   \n",
              "4             -13.223041              -2.029111              -1.142793   \n",
              "\n",
              "   principle component 4  principle component 5  principle component 6 quality  \n",
              "0              -0.421296              -1.170184               0.285794     bad  \n",
              "1              -0.217828              -0.651661               0.384349     bad  \n",
              "2              -0.236068              -0.641772               0.352952     bad  \n",
              "3              -1.562799               0.058095              -0.513832    good  \n",
              "4              -0.421296              -1.170184               0.285794     bad  "
            ],
            "text/html": [
              "\n",
              "  <div id=\"df-84b588f2-eeb0-45b5-9525-6c378166a5f3\">\n",
              "    <div class=\"colab-df-container\">\n",
              "      <div>\n",
              "<style scoped>\n",
              "    .dataframe tbody tr th:only-of-type {\n",
              "        vertical-align: middle;\n",
              "    }\n",
              "\n",
              "    .dataframe tbody tr th {\n",
              "        vertical-align: top;\n",
              "    }\n",
              "\n",
              "    .dataframe thead th {\n",
              "        text-align: right;\n",
              "    }\n",
              "</style>\n",
              "<table border=\"1\" class=\"dataframe\">\n",
              "  <thead>\n",
              "    <tr style=\"text-align: right;\">\n",
              "      <th></th>\n",
              "      <th>principle component 1</th>\n",
              "      <th>principle component 2</th>\n",
              "      <th>principle component 3</th>\n",
              "      <th>principle component 4</th>\n",
              "      <th>principle component 5</th>\n",
              "      <th>principle component 6</th>\n",
              "      <th>quality</th>\n",
              "    </tr>\n",
              "  </thead>\n",
              "  <tbody>\n",
              "    <tr>\n",
              "      <th>0</th>\n",
              "      <td>-13.223041</td>\n",
              "      <td>-2.029111</td>\n",
              "      <td>-1.142793</td>\n",
              "      <td>-0.421296</td>\n",
              "      <td>-1.170184</td>\n",
              "      <td>0.285794</td>\n",
              "      <td>bad</td>\n",
              "    </tr>\n",
              "    <tr>\n",
              "      <th>1</th>\n",
              "      <td>22.039380</td>\n",
              "      <td>4.403995</td>\n",
              "      <td>-0.323844</td>\n",
              "      <td>-0.217828</td>\n",
              "      <td>-0.651661</td>\n",
              "      <td>0.384349</td>\n",
              "      <td>bad</td>\n",
              "    </tr>\n",
              "    <tr>\n",
              "      <th>2</th>\n",
              "      <td>7.164424</td>\n",
              "      <td>-2.505981</td>\n",
              "      <td>-0.594867</td>\n",
              "      <td>-0.236068</td>\n",
              "      <td>-0.641772</td>\n",
              "      <td>0.352952</td>\n",
              "      <td>bad</td>\n",
              "    </tr>\n",
              "    <tr>\n",
              "      <th>3</th>\n",
              "      <td>13.428436</td>\n",
              "      <td>-1.946403</td>\n",
              "      <td>2.644524</td>\n",
              "      <td>-1.562799</td>\n",
              "      <td>0.058095</td>\n",
              "      <td>-0.513832</td>\n",
              "      <td>good</td>\n",
              "    </tr>\n",
              "    <tr>\n",
              "      <th>4</th>\n",
              "      <td>-13.223041</td>\n",
              "      <td>-2.029111</td>\n",
              "      <td>-1.142793</td>\n",
              "      <td>-0.421296</td>\n",
              "      <td>-1.170184</td>\n",
              "      <td>0.285794</td>\n",
              "      <td>bad</td>\n",
              "    </tr>\n",
              "  </tbody>\n",
              "</table>\n",
              "</div>\n",
              "      <button class=\"colab-df-convert\" onclick=\"convertToInteractive('df-84b588f2-eeb0-45b5-9525-6c378166a5f3')\"\n",
              "              title=\"Convert this dataframe to an interactive table.\"\n",
              "              style=\"display:none;\">\n",
              "        \n",
              "  <svg xmlns=\"http://www.w3.org/2000/svg\" height=\"24px\"viewBox=\"0 0 24 24\"\n",
              "       width=\"24px\">\n",
              "    <path d=\"M0 0h24v24H0V0z\" fill=\"none\"/>\n",
              "    <path d=\"M18.56 5.44l.94 2.06.94-2.06 2.06-.94-2.06-.94-.94-2.06-.94 2.06-2.06.94zm-11 1L8.5 8.5l.94-2.06 2.06-.94-2.06-.94L8.5 2.5l-.94 2.06-2.06.94zm10 10l.94 2.06.94-2.06 2.06-.94-2.06-.94-.94-2.06-.94 2.06-2.06.94z\"/><path d=\"M17.41 7.96l-1.37-1.37c-.4-.4-.92-.59-1.43-.59-.52 0-1.04.2-1.43.59L10.3 9.45l-7.72 7.72c-.78.78-.78 2.05 0 2.83L4 21.41c.39.39.9.59 1.41.59.51 0 1.02-.2 1.41-.59l7.78-7.78 2.81-2.81c.8-.78.8-2.07 0-2.86zM5.41 20L4 18.59l7.72-7.72 1.47 1.35L5.41 20z\"/>\n",
              "  </svg>\n",
              "      </button>\n",
              "      \n",
              "  <style>\n",
              "    .colab-df-container {\n",
              "      display:flex;\n",
              "      flex-wrap:wrap;\n",
              "      gap: 12px;\n",
              "    }\n",
              "\n",
              "    .colab-df-convert {\n",
              "      background-color: #E8F0FE;\n",
              "      border: none;\n",
              "      border-radius: 50%;\n",
              "      cursor: pointer;\n",
              "      display: none;\n",
              "      fill: #1967D2;\n",
              "      height: 32px;\n",
              "      padding: 0 0 0 0;\n",
              "      width: 32px;\n",
              "    }\n",
              "\n",
              "    .colab-df-convert:hover {\n",
              "      background-color: #E2EBFA;\n",
              "      box-shadow: 0px 1px 2px rgba(60, 64, 67, 0.3), 0px 1px 3px 1px rgba(60, 64, 67, 0.15);\n",
              "      fill: #174EA6;\n",
              "    }\n",
              "\n",
              "    [theme=dark] .colab-df-convert {\n",
              "      background-color: #3B4455;\n",
              "      fill: #D2E3FC;\n",
              "    }\n",
              "\n",
              "    [theme=dark] .colab-df-convert:hover {\n",
              "      background-color: #434B5C;\n",
              "      box-shadow: 0px 1px 3px 1px rgba(0, 0, 0, 0.15);\n",
              "      filter: drop-shadow(0px 1px 2px rgba(0, 0, 0, 0.3));\n",
              "      fill: #FFFFFF;\n",
              "    }\n",
              "  </style>\n",
              "\n",
              "      <script>\n",
              "        const buttonEl =\n",
              "          document.querySelector('#df-84b588f2-eeb0-45b5-9525-6c378166a5f3 button.colab-df-convert');\n",
              "        buttonEl.style.display =\n",
              "          google.colab.kernel.accessAllowed ? 'block' : 'none';\n",
              "\n",
              "        async function convertToInteractive(key) {\n",
              "          const element = document.querySelector('#df-84b588f2-eeb0-45b5-9525-6c378166a5f3');\n",
              "          const dataTable =\n",
              "            await google.colab.kernel.invokeFunction('convertToInteractive',\n",
              "                                                     [key], {});\n",
              "          if (!dataTable) return;\n",
              "\n",
              "          const docLinkHtml = 'Like what you see? Visit the ' +\n",
              "            '<a target=\"_blank\" href=https://colab.research.google.com/notebooks/data_table.ipynb>data table notebook</a>'\n",
              "            + ' to learn more about interactive tables.';\n",
              "          element.innerHTML = '';\n",
              "          dataTable['output_type'] = 'display_data';\n",
              "          await google.colab.output.renderOutput(dataTable, element);\n",
              "          const docLink = document.createElement('div');\n",
              "          docLink.innerHTML = docLinkHtml;\n",
              "          element.appendChild(docLink);\n",
              "        }\n",
              "      </script>\n",
              "    </div>\n",
              "  </div>\n",
              "  "
            ]
          },
          "metadata": {},
          "execution_count": 326
        }
      ]
    },
    {
      "cell_type": "code",
      "source": [
        "PCA_x = main_df.drop('quality',axis=1)\n",
        "PCA_y = main_df[['quality']]\n",
        "x_train, x_test, y_train, y_test= train_test_split(PCA_x, PCA_y, stratify=PCA_y, test_size=0.2)"
      ],
      "metadata": {
        "id": "qTdJAGOLnc8n"
      },
      "execution_count": null,
      "outputs": []
    },
    {
      "cell_type": "markdown",
      "source": [
        "# Support Vector Machine on reduce dataset"
      ],
      "metadata": {
        "id": "PQDGfYrM_OEP"
      }
    },
    {
      "cell_type": "code",
      "source": [
        "from sklearn.svm import SVC\n",
        "svc = SVC(kernel=\"linear\")\n",
        "svc.fit(x_train, y_train)\n",
        "svc2 = svc.score(x_test, y_test)"
      ],
      "metadata": {
        "colab": {
          "base_uri": "https://localhost:8080/"
        },
        "id": "hZZbzuaE8zIj",
        "outputId": "39dc39fa-96d6-4917-ac61-ff6b04857c45"
      },
      "execution_count": null,
      "outputs": [
        {
          "output_type": "stream",
          "name": "stderr",
          "text": [
            "/usr/local/lib/python3.7/dist-packages/sklearn/utils/validation.py:993: DataConversionWarning: A column-vector y was passed when a 1d array was expected. Please change the shape of y to (n_samples, ), for example using ravel().\n",
            "  y = column_or_1d(y, warn=True)\n"
          ]
        }
      ]
    },
    {
      "cell_type": "code",
      "source": [
        "print(\"Training accuracy of the model is {:.2f}\".format(svc.score(x_train, y_train)))\n",
        "print(\"Testing accuracy of the model is {:.2f}\".format(svc.score(x_test, y_test)))"
      ],
      "metadata": {
        "colab": {
          "base_uri": "https://localhost:8080/"
        },
        "id": "mdCUgnSl-Q5f",
        "outputId": "58cb6cd8-8146-4fb9-dd79-39148ba87b74"
      },
      "execution_count": null,
      "outputs": [
        {
          "output_type": "stream",
          "name": "stdout",
          "text": [
            "Training accuracy of the model is 1.00\n",
            "Testing accuracy of the model is 1.00\n"
          ]
        }
      ]
    },
    {
      "cell_type": "code",
      "source": [
        "predictions = svc.predict(x_test)\n",
        "print(predictions)"
      ],
      "metadata": {
        "colab": {
          "base_uri": "https://localhost:8080/"
        },
        "id": "hDOd97m6_mlg",
        "outputId": "35167b52-4cc8-4f7d-ea4e-8260a7c008ea"
      },
      "execution_count": null,
      "outputs": [
        {
          "output_type": "stream",
          "name": "stdout",
          "text": [
            "['bad' 'bad' 'good' 'bad' 'good' 'good' 'bad' 'bad' 'good' 'bad' 'bad'\n",
            " 'good' 'good' 'good' 'good' 'good' 'bad' 'bad' 'bad' 'bad' 'good' 'bad'\n",
            " 'good' 'good' 'bad' 'good' 'good' 'good' 'good' 'bad' 'bad' 'bad' 'good'\n",
            " 'good' 'bad' 'bad' 'bad' 'good' 'good' 'bad' 'good' 'good' 'bad' 'bad'\n",
            " 'bad' 'good' 'good' 'bad' 'bad' 'good' 'good' 'good' 'bad' 'good' 'good'\n",
            " 'bad' 'good' 'bad' 'good' 'good' 'bad' 'bad' 'bad' 'good' 'bad' 'bad'\n",
            " 'good' 'good' 'bad' 'good' 'bad' 'good' 'good' 'bad' 'good' 'good' 'bad'\n",
            " 'good' 'bad' 'good' 'good' 'bad' 'good' 'bad' 'bad' 'bad' 'good' 'good'\n",
            " 'bad' 'bad' 'good' 'good' 'good' 'good' 'good' 'good' 'bad' 'good' 'good'\n",
            " 'bad' 'bad' 'good' 'bad' 'good' 'good' 'bad' 'good' 'good' 'good' 'good'\n",
            " 'bad' 'bad' 'bad' 'good' 'good' 'bad' 'bad' 'bad' 'good' 'good' 'good'\n",
            " 'bad' 'good' 'bad' 'bad' 'good' 'good' 'good' 'good' 'good' 'bad' 'bad'\n",
            " 'good' 'bad' 'good' 'good' 'bad' 'good' 'good' 'bad' 'bad' 'good' 'bad'\n",
            " 'good' 'good' 'good' 'good' 'bad' 'good' 'bad' 'good' 'bad' 'bad' 'bad'\n",
            " 'bad' 'bad' 'good' 'bad' 'good' 'bad' 'bad' 'bad' 'good' 'bad' 'good'\n",
            " 'good' 'bad' 'bad' 'bad' 'good' 'bad' 'bad' 'bad' 'good' 'good' 'good'\n",
            " 'good' 'good' 'good' 'good' 'good' 'good' 'good' 'bad' 'bad' 'good' 'bad'\n",
            " 'bad' 'good' 'bad' 'good' 'good' 'bad' 'good' 'bad' 'good' 'bad' 'good'\n",
            " 'bad' 'good' 'good' 'good' 'good' 'good' 'bad' 'good' 'bad' 'bad' 'good'\n",
            " 'bad' 'good' 'good' 'good' 'good' 'good' 'good' 'bad' 'bad' 'bad' 'good'\n",
            " 'good' 'good' 'bad' 'good' 'bad' 'good' 'bad' 'bad' 'good' 'bad' 'bad'\n",
            " 'bad' 'good' 'good' 'bad' 'bad' 'good' 'good' 'good' 'good' 'bad' 'bad'\n",
            " 'good' 'bad' 'good' 'bad' 'bad' 'bad' 'good' 'bad' 'good' 'good' 'bad'\n",
            " 'good' 'good' 'bad' 'good' 'good' 'bad' 'good' 'bad' 'bad' 'bad' 'bad'\n",
            " 'good' 'bad' 'bad' 'bad' 'good' 'good' 'bad' 'bad' 'good' 'bad' 'good'\n",
            " 'good' 'bad' 'good' 'bad' 'good' 'good' 'good' 'good' 'bad' 'bad' 'bad'\n",
            " 'good' 'bad' 'good' 'good' 'good' 'bad' 'bad' 'good' 'good' 'bad' 'good'\n",
            " 'good' 'bad' 'bad' 'good' 'bad' 'bad' 'good' 'bad' 'good' 'bad' 'bad'\n",
            " 'good' 'bad' 'good' 'bad' 'good' 'bad' 'good' 'bad' 'good' 'good' 'bad'\n",
            " 'good']\n"
          ]
        }
      ]
    },
    {
      "cell_type": "code",
      "source": [
        "from sklearn.metrics import confusion_matrix\n",
        "mat=confusion_matrix(predictions, y_test)\n",
        "print(mat)"
      ],
      "metadata": {
        "colab": {
          "base_uri": "https://localhost:8080/"
        },
        "id": "NQuNL4pw_szh",
        "outputId": "8d4b6fd9-60a6-4d54-e427-e7423ca91686"
      },
      "execution_count": null,
      "outputs": [
        {
          "output_type": "stream",
          "name": "stdout",
          "text": [
            "[[149   0]\n",
            " [  0 171]]\n"
          ]
        }
      ]
    },
    {
      "cell_type": "markdown",
      "source": [
        "# Neural Network (MLPClassifier) on reduce dataset"
      ],
      "metadata": {
        "id": "p9hL-UgCAOJ5"
      }
    },
    {
      "cell_type": "code",
      "source": [
        "from sklearn.neural_network import MLPClassifier\n",
        "nnc=MLPClassifier(hidden_layer_sizes=(7), activation=\"relu\", max_iter=10000)"
      ],
      "metadata": {
        "id": "RM0s0ete_wKg"
      },
      "execution_count": null,
      "outputs": []
    },
    {
      "cell_type": "code",
      "source": [
        "nnc.fit(x_train, y_train)\n",
        "nnc2 = nnc.score(x_test, y_test)"
      ],
      "metadata": {
        "colab": {
          "base_uri": "https://localhost:8080/"
        },
        "id": "wLHTlwShAley",
        "outputId": "fbd4963c-368a-496c-baa7-91dca6d884f6"
      },
      "execution_count": null,
      "outputs": [
        {
          "output_type": "stream",
          "name": "stderr",
          "text": [
            "/usr/local/lib/python3.7/dist-packages/sklearn/neural_network/_multilayer_perceptron.py:1109: DataConversionWarning: A column-vector y was passed when a 1d array was expected. Please change the shape of y to (n_samples, ), for example using ravel().\n",
            "  y = column_or_1d(y, warn=True)\n"
          ]
        }
      ]
    },
    {
      "cell_type": "code",
      "source": [
        "print(\"The Training accuracy of the model is {:.2f}\".format(nnc.score(x_train, y_train)))\n",
        "print(\"The Testing accuracy of the model is {:.2f}\".format(nnc.score(x_test, y_test)))"
      ],
      "metadata": {
        "colab": {
          "base_uri": "https://localhost:8080/"
        },
        "id": "lPf2-C0RApmQ",
        "outputId": "398f31fe-02df-411d-cc72-1bae45a2880e"
      },
      "execution_count": null,
      "outputs": [
        {
          "output_type": "stream",
          "name": "stdout",
          "text": [
            "The Training accuracy of the model is 1.00\n",
            "The Testing accuracy of the model is 1.00\n"
          ]
        }
      ]
    },
    {
      "cell_type": "code",
      "source": [
        "predictions = nnc.predict(x_test)\n",
        "print(predictions)"
      ],
      "metadata": {
        "colab": {
          "base_uri": "https://localhost:8080/"
        },
        "id": "XMYqVjdzAt37",
        "outputId": "34d0e70e-f7a1-4c3d-910b-e8b6a8ad5415"
      },
      "execution_count": null,
      "outputs": [
        {
          "output_type": "stream",
          "name": "stdout",
          "text": [
            "['bad' 'bad' 'good' 'bad' 'good' 'good' 'bad' 'bad' 'good' 'bad' 'bad'\n",
            " 'good' 'good' 'good' 'good' 'good' 'bad' 'bad' 'bad' 'bad' 'good' 'bad'\n",
            " 'good' 'good' 'bad' 'good' 'good' 'good' 'good' 'bad' 'bad' 'bad' 'good'\n",
            " 'good' 'bad' 'bad' 'bad' 'good' 'good' 'bad' 'good' 'good' 'bad' 'bad'\n",
            " 'bad' 'good' 'good' 'bad' 'bad' 'good' 'good' 'good' 'bad' 'good' 'good'\n",
            " 'bad' 'good' 'bad' 'good' 'good' 'bad' 'bad' 'bad' 'good' 'bad' 'bad'\n",
            " 'good' 'good' 'bad' 'good' 'bad' 'good' 'good' 'bad' 'good' 'good' 'bad'\n",
            " 'good' 'bad' 'good' 'good' 'bad' 'good' 'bad' 'bad' 'bad' 'good' 'good'\n",
            " 'bad' 'bad' 'good' 'good' 'good' 'good' 'good' 'good' 'bad' 'good' 'good'\n",
            " 'bad' 'bad' 'good' 'bad' 'good' 'good' 'bad' 'good' 'good' 'good' 'good'\n",
            " 'bad' 'bad' 'bad' 'good' 'good' 'bad' 'bad' 'bad' 'good' 'good' 'good'\n",
            " 'bad' 'good' 'bad' 'bad' 'good' 'good' 'good' 'good' 'good' 'bad' 'bad'\n",
            " 'good' 'bad' 'good' 'good' 'bad' 'good' 'good' 'bad' 'bad' 'good' 'bad'\n",
            " 'good' 'good' 'good' 'good' 'bad' 'good' 'bad' 'good' 'bad' 'bad' 'bad'\n",
            " 'bad' 'bad' 'good' 'bad' 'good' 'bad' 'bad' 'bad' 'good' 'bad' 'good'\n",
            " 'good' 'bad' 'bad' 'bad' 'good' 'bad' 'bad' 'bad' 'good' 'good' 'good'\n",
            " 'good' 'good' 'good' 'good' 'good' 'good' 'good' 'bad' 'bad' 'good' 'bad'\n",
            " 'bad' 'good' 'bad' 'good' 'good' 'bad' 'good' 'bad' 'good' 'bad' 'good'\n",
            " 'bad' 'good' 'good' 'good' 'good' 'good' 'bad' 'good' 'bad' 'bad' 'good'\n",
            " 'bad' 'good' 'good' 'good' 'good' 'good' 'good' 'bad' 'bad' 'bad' 'good'\n",
            " 'good' 'good' 'bad' 'good' 'bad' 'good' 'bad' 'bad' 'good' 'bad' 'bad'\n",
            " 'bad' 'good' 'good' 'bad' 'bad' 'good' 'good' 'good' 'good' 'bad' 'bad'\n",
            " 'good' 'bad' 'good' 'bad' 'bad' 'bad' 'good' 'bad' 'good' 'good' 'bad'\n",
            " 'good' 'good' 'bad' 'good' 'good' 'bad' 'good' 'bad' 'bad' 'bad' 'bad'\n",
            " 'good' 'bad' 'bad' 'bad' 'good' 'good' 'bad' 'bad' 'good' 'bad' 'good'\n",
            " 'good' 'bad' 'good' 'bad' 'good' 'good' 'good' 'good' 'bad' 'bad' 'bad'\n",
            " 'good' 'bad' 'good' 'good' 'good' 'bad' 'bad' 'good' 'good' 'bad' 'good'\n",
            " 'good' 'bad' 'bad' 'good' 'bad' 'bad' 'good' 'bad' 'good' 'bad' 'bad'\n",
            " 'good' 'bad' 'good' 'bad' 'good' 'bad' 'good' 'bad' 'good' 'good' 'bad'\n",
            " 'good']\n"
          ]
        }
      ]
    },
    {
      "cell_type": "code",
      "source": [
        "from sklearn.metrics import confusion_matrix\n",
        "mat=confusion_matrix(predictions, y_test)\n",
        "print(mat)"
      ],
      "metadata": {
        "colab": {
          "base_uri": "https://localhost:8080/"
        },
        "id": "45XyjJ4vAxZw",
        "outputId": "8b465299-7504-4870-ef6e-2c2c01940cd5"
      },
      "execution_count": null,
      "outputs": [
        {
          "output_type": "stream",
          "name": "stdout",
          "text": [
            "[[149   0]\n",
            " [  0 171]]\n"
          ]
        }
      ]
    },
    {
      "cell_type": "markdown",
      "source": [
        "# Ensemble Classifier (Random Forest) on reduce dataset"
      ],
      "metadata": {
        "id": "B1Gfi8QrqAv4"
      }
    },
    {
      "cell_type": "code",
      "source": [
        "from sklearn.ensemble import RandomForestClassifier\n",
        "rfc = RandomForestClassifier(n_estimators=50)\n",
        "rfc.fit(x_train, y_train)\n",
        "rfc2 = rfc.score(x_test, y_test)"
      ],
      "metadata": {
        "colab": {
          "base_uri": "https://localhost:8080/"
        },
        "id": "3Jfc208_p_sD",
        "outputId": "0163ce60-0391-4da7-d51d-78757a4802b1"
      },
      "execution_count": null,
      "outputs": [
        {
          "output_type": "stream",
          "name": "stderr",
          "text": [
            "/usr/local/lib/python3.7/dist-packages/ipykernel_launcher.py:3: DataConversionWarning: A column-vector y was passed when a 1d array was expected. Please change the shape of y to (n_samples,), for example using ravel().\n",
            "  This is separate from the ipykernel package so we can avoid doing imports until\n"
          ]
        }
      ]
    },
    {
      "cell_type": "code",
      "source": [
        "print(\"The Training accuracy of the model is {:.2f}\".format(rfc.score(x_train, y_train)))\n",
        "print(\"The Testing accuracy of the model is {:.2f}\".format(rfc.score(x_test, y_test)))\n"
      ],
      "metadata": {
        "colab": {
          "base_uri": "https://localhost:8080/"
        },
        "id": "mPXBgBIEA00g",
        "outputId": "d25c92c1-fada-4424-f351-810ffe30fdb9"
      },
      "execution_count": null,
      "outputs": [
        {
          "output_type": "stream",
          "name": "stdout",
          "text": [
            "The Training accuracy of the model is 1.00\n",
            "The Testing accuracy of the model is 1.00\n"
          ]
        }
      ]
    },
    {
      "cell_type": "code",
      "source": [
        "predictions = rfc.predict(x_test)"
      ],
      "metadata": {
        "id": "AXRvd94Nqqyl"
      },
      "execution_count": null,
      "outputs": []
    },
    {
      "cell_type": "code",
      "source": [
        "from sklearn.metrics import confusion_matrix\n",
        "mat=confusion_matrix(predictions, y_test)\n",
        "print(mat)"
      ],
      "metadata": {
        "colab": {
          "base_uri": "https://localhost:8080/"
        },
        "id": "RXCSUDXiqzeu",
        "outputId": "dec33f56-92b2-40b7-da11-d80f4f7c3e6f"
      },
      "execution_count": null,
      "outputs": [
        {
          "output_type": "stream",
          "name": "stdout",
          "text": [
            "[[149   0]\n",
            " [  0 171]]\n"
          ]
        }
      ]
    },
    {
      "cell_type": "markdown",
      "source": [
        "# Bar chart on pre-PCA and post-PCA results"
      ],
      "metadata": {
        "id": "zVWed33Grblf"
      }
    },
    {
      "cell_type": "code",
      "source": [
        "import matplotlib.pyplot as plt\n"
      ],
      "metadata": {
        "id": "KwjWSrAyrYJE"
      },
      "execution_count": null,
      "outputs": []
    },
    {
      "cell_type": "code",
      "source": [
        "accuracy = [svc1, nnc1, rfc1]\n",
        "accuracyPCA = [svc2, nnc2, rfc2]"
      ],
      "metadata": {
        "id": "b4dsTLV4q2oB"
      },
      "execution_count": null,
      "outputs": []
    },
    {
      "cell_type": "code",
      "source": [
        "data = [accuracy, accuracyPCA]\n",
        "X = np.arange(3)\n",
        "fig = plt.figure()\n",
        "ax = fig.add_axes([0,0,1,1])\n",
        "ax.bar(X + 0.00, data[0], color = 'skyblue', width = 0.25)\n",
        "ax.bar(X + 0.25, data[1], color = 'pink', width = 0.25)\n",
        "ax.set_title('Red = Accuracy Before PCA,   Blue = Accuracy after PCA')\n",
        "ax.set_xlabel('SVC                                              NNC                                      RFC')\n",
        "ax.set_ylabel('Accuracy')"
      ],
      "metadata": {
        "colab": {
          "base_uri": "https://localhost:8080/",
          "height": 383
        },
        "id": "c6EnBmhTrwN4",
        "outputId": "e1b8ad6f-11cd-490e-cb64-afab7b24f68b"
      },
      "execution_count": null,
      "outputs": [
        {
          "output_type": "execute_result",
          "data": {
            "text/plain": [
              "Text(0, 0.5, 'Accuracy')"
            ]
          },
          "metadata": {},
          "execution_count": 348
        },
        {
          "output_type": "display_data",
          "data": {
            "text/plain": [
              "<Figure size 432x288 with 1 Axes>"
            ],
            "image/png": "[encoded data removed]"
          },
          "metadata": {
            "needs_background": "light"
          }
        }
      ]
    },
    {
      "cell_type": "code",
      "source": [],
      "metadata": {
        "id": "gm8bK_MEtES-"
      },
      "execution_count": null,
      "outputs": []
    }
  ]
}