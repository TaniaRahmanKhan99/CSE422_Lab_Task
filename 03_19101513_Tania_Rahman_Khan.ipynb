{
  "nbformat": 4,
  "nbformat_minor": 0,
  "metadata": {
    "colab": {
      "provenance": []
    },
    "kernelspec": {
      "name": "python3",
      "display_name": "Python 3"
    },
    "language_info": {
      "name": "python"
    }
  },
  "cells": [
    {
      "cell_type": "code",
      "execution_count": null,
      "metadata": {
        "id": "NzzhxvFHvhyl",
        "cellView": "code",
        "colab": {
          "base_uri": "https://localhost:8080/"
        },
        "outputId": "588330db-3fb5-4d69-fc79-f2a7a275619c"
      },
      "outputs": [
        {
          "output_type": "stream",
          "name": "stdout",
          "text": [
            "[['5'], ['l', '100'], ['l', '450'], ['d', '500'], ['l', '7923'], ['d', '9055']]\n",
            "['1101101', '0011111', '1011111', '1101010', '1101001', '1011010', '1000010', '0001011', '1000001', '0101101']\n"
          ]
        }
      ],
      "source": [
        "#import numpy as np\n",
        "import random\n",
        "data_matrix = []\n",
        "num = ['0','1']\n",
        "population = []\n",
        "\n",
        "with open('sample data_genetic lgorithm.txt') as f:\n",
        "  lines = f.readlines()\n",
        "  #print(data_matrix)\n",
        "for line in lines:\n",
        "  #print(line.split())\n",
        "  data_matrix.append(line.split())\n",
        "\n",
        "print(data_matrix)\n",
        "\n",
        "for i in range(10):\n",
        "  population.append(''.join((random.choice(num) for i in range(7))))\n",
        "print(population)\n",
        "\n"
      ]
    },
    {
      "cell_type": "code",
      "source": [
        "def fitness(population, n):\n",
        "fit_n = []\n",
        "for i in population:\n",
        "  score = 0\n",
        "\n",
        "  for j in range (len(data_matrix)):\n",
        "    if '1' in population[j.split()]:\n",
        "      score = score + data_matrix[j]\n",
        "    else:\n",
        "      score = score - data_matrix[j]\n",
        "fit_n.append(score)\n",
        "\n",
        "return fit_n\n",
        "a1 = fitness(population, len(population))\n",
        "\n"
      ],
      "metadata": {
        "id": "ysBrVCRFAeBN",
        "colab": {
          "base_uri": "https://localhost:8080/",
          "height": 130
        },
        "outputId": "fc4440dd-296f-4d90-b47e-448d1a43ed85"
      },
      "execution_count": null,
      "outputs": [
        {
          "output_type": "error",
          "ename": "IndentationError",
          "evalue": "ignored",
          "traceback": [
            "\u001b[0;36m  File \u001b[0;32m\"<ipython-input-26-6a8f91cfd95e>\"\u001b[0;36m, line \u001b[0;32m2\u001b[0m\n\u001b[0;31m    fit_n = []\u001b[0m\n\u001b[0m        ^\u001b[0m\n\u001b[0;31mIndentationError\u001b[0m\u001b[0;31m:\u001b[0m expected an indented block\n"
          ]
        }
      ]
    },
    {
      "cell_type": "code",
      "metadata": {
        "id": "mCgercZ4_DQ8"
      },
      "source": [
        "def select(population, fit):\n",
        "    x = numpy.random.choice(population, 1, fit)\n",
        "    return x\n",
        "\n",
        "\n",
        "#select(population,x)\n",
        "\n",
        ""
      ],
      "execution_count": null,
      "outputs": []
    },
    {
      "cell_type": "code",
      "metadata": {
        "id": "ZtmoFQ9ugwN_"
      },
      "source": [
        "def crossover(x, y):\n",
        "\n",
        "  divide = random.randrange(0,population)\n",
        "  cut1 = x\n",
        "  cut2 = y\n",
        "  x = x[divide] + y[divide]\n",
        "\n",
        "  return x"
      ],
      "execution_count": null,
      "outputs": []
    },
    {
      "cell_type": "code",
      "metadata": {
        "id": "zRIG9DXmxzFw"
      },
      "source": [
        "def mutate(child):\n",
        "  index = random.randrange(0, data_mtrix)\n",
        "  child = list(child)\n",
        "\n",
        "  if child[index] == '0':\n",
        "    child[index] = '1'\n",
        "  else:\n",
        "    child[index] = '0'\n",
        "\n",
        "  child = \"\".join(child)\n",
        "  return child"
      ],
      "execution_count": null,
      "outputs": []
    },
    {
      "cell_type": "code",
      "source": [
        "def GA(population, fitness, mutation_threshold) :\n",
        "\n",
        "  new_population = []\n",
        "  for i in range(len(population)):\n",
        "    x = select(population, fitness(population, len(population)))\n",
        "    y = select(population, fitness(population, len(population))\n",
        "\n",
        "     child = crossover(x[0],y[0])\n",
        "\n",
        "      if (random.randrange(0, 2) < mutation_threshold):\n",
        "        child = mutation(child)\n",
        "     new_population.append(child)\n",
        "\n",
        "  population = new_population\n",
        "  fitness_sc = fitness(new_population,len(new_population))\n",
        "\n",
        "  if 0 in fitness_sc:\n",
        "    idx = fitness_sc.index(0)\n",
        "\n",
        "     return new_population[idx]\n",
        "\n",
        "    else:\n",
        "        return -1\n",
        "\n",
        "print(GA(population, fitness, 0.3))"
      ],
      "metadata": {
        "colab": {
          "base_uri": "https://localhost:8080/",
          "height": 130
        },
        "id": "arnlhwExEYFA",
        "outputId": "7dce6560-4508-4bc2-9041-28a30e9185c8"
      },
      "execution_count": null,
      "outputs": [
        {
          "output_type": "error",
          "ename": "IndentationError",
          "evalue": "ignored",
          "traceback": [
            "\u001b[0;36m  File \u001b[0;32m\"<ipython-input-32-4d63f764985e>\"\u001b[0;36m, line \u001b[0;32m6\u001b[0m\n\u001b[0;31m    y = select(population, fitness(population, len(population))\u001b[0m\n\u001b[0m    ^\u001b[0m\n\u001b[0;31mIndentationError\u001b[0m\u001b[0;31m:\u001b[0m unexpected indent\n"
          ]
        }
      ]
    },
    {
      "cell_type": "code",
      "source": [],
      "metadata": {
        "id": "hy0RnStoE-Gz"
      },
      "execution_count": null,
      "outputs": []
    }
  ]
}